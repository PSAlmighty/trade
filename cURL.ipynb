{
 "cells": [
  {
   "cell_type": "code",
   "execution_count": 3,
   "metadata": {},
   "outputs": [
    {
     "ename": "ImportError",
     "evalue": "Failed to load GLFW3 shared library.",
     "output_type": "error",
     "traceback": [
      "\u001b[1;31m---------------------------------------------------------------------------\u001b[0m",
      "\u001b[1;31mImportError\u001b[0m                               Traceback (most recent call last)",
      "\u001b[1;32m<ipython-input-3-cc5ed2111856>\u001b[0m in \u001b[0;36m<module>\u001b[1;34m()\u001b[0m\n\u001b[1;32m----> 1\u001b[1;33m \u001b[1;32mimport\u001b[0m \u001b[0mglfw\u001b[0m\u001b[1;33m\u001b[0m\u001b[0m\n\u001b[0m",
      "\u001b[1;32mC:\\ProgramData\\Anaconda3\\lib\\site-packages\\glfw\\__init__.py\u001b[0m in \u001b[0;36m<module>\u001b[1;34m()\u001b[0m\n\u001b[0;32m     32\u001b[0m \u001b[1;33m\u001b[0m\u001b[0m\n\u001b[0;32m     33\u001b[0m \u001b[1;32mif\u001b[0m \u001b[0m_glfw\u001b[0m \u001b[1;32mis\u001b[0m \u001b[1;32mNone\u001b[0m\u001b[1;33m:\u001b[0m\u001b[1;33m\u001b[0m\u001b[0m\n\u001b[1;32m---> 34\u001b[1;33m     \u001b[1;32mraise\u001b[0m \u001b[0mImportError\u001b[0m\u001b[1;33m(\u001b[0m\u001b[1;34m\"Failed to load GLFW3 shared library.\"\u001b[0m\u001b[1;33m)\u001b[0m\u001b[1;33m\u001b[0m\u001b[0m\n\u001b[0m\u001b[0;32m     35\u001b[0m \u001b[1;33m\u001b[0m\u001b[0m\n\u001b[0;32m     36\u001b[0m \u001b[1;33m\u001b[0m\u001b[0m\n",
      "\u001b[1;31mImportError\u001b[0m: Failed to load GLFW3 shared library."
     ]
    }
   ],
   "source": [
    "import glfw"
   ]
  },
  {
   "cell_type": "code",
   "execution_count": null,
   "metadata": {},
   "outputs": [],
   "source": [
    "import pandas as pd\n",
    "import numpy as np\n",
    "import pycurl\n",
    "import io\n",
    "from bs4 import BeautifulSoup\n",
    "import time\n",
    "import json\n",
    "from p5 import *"
   ]
  },
  {
   "cell_type": "code",
   "execution_count": null,
   "metadata": {},
   "outputs": [],
   "source": [
    "symbols = [\"LUPIN\", \"RELIANCE\", \"STAR\", \"NTPC\", \"TCS\", \"INFY\", \"CIPLA\", \"ABB\", \"CONCOR\", \"PETRONET\"]"
   ]
  },
  {
   "cell_type": "code",
   "execution_count": null,
   "metadata": {},
   "outputs": [],
   "source": [
    "def get_stock_data(symbol):\n",
    "    link_front = \"https://www.nseindia.com/live_market/dynaContent/live_watch/get_quote/GetQuote.jsp?symbol=\"\n",
    "    link_end = \"&illiquid=0&smeFlag=0&itpFlag=0\"\n",
    "    url = link_front + symbol + link_end\n",
    "    buf = io.BytesIO()\n",
    "    c = pycurl.Curl()\n",
    "    c.setopt(c.URL, url)\n",
    "    c.setopt(c.WRITEFUNCTION, buf.write)\n",
    "    c.perform()\n",
    "    page_text = buf.getvalue()\n",
    "    soup=BeautifulSoup(page_text,\"lxml\")\n",
    "    resdic = json.loads(str(soup.find(\"div\",{\"id\":\"responseDiv\"}).contents[0].strip()))\n",
    "    ltp = float(resdic[\"data\"][0][\"lastPrice\"].replace(\",\",\"\"))\n",
    "    day_open = float(resdic[\"data\"][0][\"open\"].replace(\",\",\"\"))\n",
    "    bq1 = 0 if resdic[\"data\"][0][\"buyQuantity1\"] == \"-\" else int(resdic[\"data\"][0][\"buyQuantity1\"].replace(\",\",\"\"))\n",
    "    bq2 = 0 if resdic[\"data\"][0][\"buyQuantity2\"] == \"-\" else int(resdic[\"data\"][0][\"buyQuantity2\"].replace(\",\",\"\"))\n",
    "    bq3 = 0 if resdic[\"data\"][0][\"buyQuantity3\"] == \"-\" else int(resdic[\"data\"][0][\"buyQuantity3\"].replace(\",\",\"\"))\n",
    "    bq4 = 0 if resdic[\"data\"][0][\"buyQuantity4\"] == \"-\" else int(resdic[\"data\"][0][\"buyQuantity4\"].replace(\",\",\"\"))\n",
    "    bq5 = 0 if resdic[\"data\"][0][\"buyQuantity5\"] == \"-\" else int(resdic[\"data\"][0][\"buyQuantity5\"].replace(\",\",\"\"))\n",
    "    bq = [bq1, bq2, bq3, bq4, bq5]\n",
    "    sq1 = 0 if resdic[\"data\"][0][\"sellQuantity1\"] == \"-\" else int(resdic[\"data\"][0][\"sellQuantity1\"].replace(\",\",\"\"))\n",
    "    sq2 = 0 if resdic[\"data\"][0][\"sellQuantity2\"] == \"-\" else int(resdic[\"data\"][0][\"sellQuantity2\"].replace(\",\",\"\"))\n",
    "    sq3 = 0 if resdic[\"data\"][0][\"sellQuantity3\"] == \"-\" else int(resdic[\"data\"][0][\"sellQuantity3\"].replace(\",\",\"\"))\n",
    "    sq4 = 0 if resdic[\"data\"][0][\"sellQuantity4\"] == \"-\" else int(resdic[\"data\"][0][\"sellQuantity4\"].replace(\",\",\"\"))\n",
    "    sq5 = 0 if resdic[\"data\"][0][\"sellQuantity5\"] == \"-\" else int(resdic[\"data\"][0][\"sellQuantity5\"].replace(\",\",\"\"))\n",
    "    sq = [sq1, sq2, sq3, sq4, sq5]\n",
    "    bp1 = 0 if resdic[\"data\"][0][\"buyPrice1\"] == \"-\" else float(resdic[\"data\"][0][\"buyPrice1\"].replace(\",\",\"\"))\n",
    "    bp2 = 0 if resdic[\"data\"][0][\"buyPrice2\"] == \"-\" else float(resdic[\"data\"][0][\"buyPrice2\"].replace(\",\",\"\"))\n",
    "    bp3 = 0 if resdic[\"data\"][0][\"buyPrice3\"] == \"-\" else float(resdic[\"data\"][0][\"buyPrice3\"].replace(\",\",\"\"))\n",
    "    bp4 = 0 if resdic[\"data\"][0][\"buyPrice4\"] == \"-\" else float(resdic[\"data\"][0][\"buyPrice4\"].replace(\",\",\"\"))\n",
    "    bp5 = 0 if resdic[\"data\"][0][\"buyPrice5\"] == \"-\" else float(resdic[\"data\"][0][\"buyPrice5\"].replace(\",\",\"\"))\n",
    "    bp = np.array([bp1, bp2, bp3, bp4, bp5])\n",
    "    sp1 = 0 if resdic[\"data\"][0][\"sellPrice1\"] == \"-\" else float(resdic[\"data\"][0][\"sellPrice1\"].replace(\",\",\"\"))\n",
    "    sp2 = 0 if resdic[\"data\"][0][\"sellPrice2\"] == \"-\" else float(resdic[\"data\"][0][\"sellPrice2\"].replace(\",\",\"\"))\n",
    "    sp3 = 0 if resdic[\"data\"][0][\"sellPrice3\"] == \"-\" else float(resdic[\"data\"][0][\"sellPrice3\"].replace(\",\",\"\"))\n",
    "    sp4 = 0 if resdic[\"data\"][0][\"sellPrice4\"] == \"-\" else float(resdic[\"data\"][0][\"sellPrice4\"].replace(\",\",\"\"))\n",
    "    sp5 = 0 if resdic[\"data\"][0][\"sellPrice5\"] == \"-\" else float(resdic[\"data\"][0][\"sellPrice5\"].replace(\",\",\"\"))\n",
    "    sp = np.array([sp1, sp2, sp3, sp4, sp5])\n",
    "    updatetime = pd.to_datetime(resdic[\"lastUpdateTime\"])\n",
    "    retrieve_time = pd.to_datetime(time.strftime(\"%Y-%m-%d %H:%M:%S\"))\n",
    "    name = resdic[\"data\"][0][\"companyName\"]\n",
    "    tdic = {\n",
    "        \"TIME\":retrieve_time,\"STOCK\":symbol.upper(),\"LTP\":ltp,\n",
    "        \"OPEN\":day_open,\n",
    "        \"OQ1\":sq1,\"OQ2\":sq2,\"OQ3\":sq3,\"OQ4\":sq4,\"OQ5\":sq5,\n",
    "        \"OP1\":sp1,\"OP2\":sp2,\"OP3\":sp3,\"OP4\":sp4,\"OP5\":sp5,\n",
    "        \"BP1\":bp1,\"BP2\":bp2,\"BP3\":bp3,\"BP4\":bp4,\"BP5\":bp5,\n",
    "        \"BQ1\":bq1,\"BQ2\":bq2,\"BQ3\":bq3,\"BQ4\":bq4,\"BQ5\":bq5,\n",
    "    }\n",
    "    #print(resdic)\n",
    "    return(tdic)"
   ]
  },
  {
   "cell_type": "code",
   "execution_count": null,
   "metadata": {},
   "outputs": [],
   "source": [
    "get_stock_data(\"lupin\")"
   ]
  },
  {
   "cell_type": "code",
   "execution_count": null,
   "metadata": {
    "scrolled": true
   },
   "outputs": [],
   "source": [
    "%matplotlib notebook"
   ]
  },
  {
   "cell_type": "code",
   "execution_count": null,
   "metadata": {},
   "outputs": [],
   "source": [
    "import matplotlib.pyplot as plt\n",
    "from matplotlib import style\n",
    "import matplotlib.animation as animation"
   ]
  },
  {
   "cell_type": "code",
   "execution_count": null,
   "metadata": {
    "scrolled": false
   },
   "outputs": [],
   "source": [
    "fig = plt.figure()\n",
    "ax1 = fig.add_subplot(1,1,1)"
   ]
  },
  {
   "cell_type": "code",
   "execution_count": null,
   "metadata": {},
   "outputs": [],
   "source": [
    "xs = []\n",
    "ys = []\n",
    "opens = []\n",
    "def animate(i):\n",
    "    data = get_stock_data(\"LUPIN\")\n",
    "    x = data[\"TIME\"]\n",
    "    y = data[\"LTP\"]\n",
    "    op = data[\"OPEN\"]\n",
    "    xs.append(x)\n",
    "    ys.append(float(y))\n",
    "    opens.append(op)\n",
    "    ax1.clear()\n",
    "    ax1.plot(xs, ys)\n",
    "    ax1.plot(xs, opens, color = \"red\")"
   ]
  },
  {
   "cell_type": "code",
   "execution_count": null,
   "metadata": {},
   "outputs": [],
   "source": [
    "ani = animation.FuncAnimation(fig, animate, interval=2000)\n",
    "plt.show()"
   ]
  },
  {
   "cell_type": "code",
   "execution_count": null,
   "metadata": {},
   "outputs": [],
   "source": []
  },
  {
   "cell_type": "code",
   "execution_count": null,
   "metadata": {},
   "outputs": [],
   "source": []
  },
  {
   "cell_type": "code",
   "execution_count": null,
   "metadata": {},
   "outputs": [],
   "source": []
  }
 ],
 "metadata": {
  "kernelspec": {
   "display_name": "Python 3",
   "language": "python",
   "name": "python3"
  },
  "language_info": {
   "codemirror_mode": {
    "name": "ipython",
    "version": 3
   },
   "file_extension": ".py",
   "mimetype": "text/x-python",
   "name": "python",
   "nbconvert_exporter": "python",
   "pygments_lexer": "ipython3",
   "version": "3.6.6"
  }
 },
 "nbformat": 4,
 "nbformat_minor": 2
}
